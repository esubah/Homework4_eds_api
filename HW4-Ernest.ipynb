{
 "cells": [
  {
   "cell_type": "code",
   "execution_count": 7,
   "metadata": {},
   "outputs": [],
   "source": [
    "import plaid\n",
    "import os\n",
    "import datetime\n",
    "import pandas as pd\n",
    "import json"
   ]
  },
  {
   "cell_type": "code",
   "execution_count": 8,
   "metadata": {},
   "outputs": [],
   "source": [
    "PLAID_CLIENT_ID = os.getenv('PLAID_CLIENT_ID')\n",
    "PLAID_PUBLIC_KEY = os.getenv('PLAID_PUBLIC_KEY')\n",
    "PLAID_SBX_SECRET_KEY = os.getenv('PLAID_SBX_SECRET_KEY')"
   ]
  },
  {
   "cell_type": "code",
   "execution_count": 9,
   "metadata": {},
   "outputs": [
    {
     "name": "stdout",
     "output_type": "stream",
     "text": [
      "24\n",
      "30\n",
      "30\n"
     ]
    }
   ],
   "source": [
    "# Confirm length of env variable is greater than zero\n",
    "print(len(PLAID_CLIENT_ID))\n",
    "print(len(PLAID_PUBLIC_KEY))\n",
    "print(len(PLAID_SBX_SECRET_KEY))"
   ]
  },
  {
   "cell_type": "code",
   "execution_count": 10,
   "metadata": {},
   "outputs": [
    {
     "data": {
      "text/plain": [
       "str"
      ]
     },
     "execution_count": 10,
     "metadata": {},
     "output_type": "execute_result"
    }
   ],
   "source": [
    "type(PLAID_CLIENT_ID)\n",
    "type(PLAID_PUBLIC_KEY)\n",
    "type(PLAID_SBX_SECRET_KEY)"
   ]
  },
  {
   "cell_type": "code",
   "execution_count": 19,
   "metadata": {},
   "outputs": [
    {
     "name": "stdout",
     "output_type": "stream",
     "text": [
      "-4.22\n"
     ]
    }
   ],
   "source": [
    "# Create client object\n",
    "client = plaid.Client(client_id=PLAID_CLIENT_ID, secret=PLAID_SBX_SECRET_KEY, public_key=PLAID_PUBLIC_KEY, environment='sandbox')\n",
    "\n",
    "# Select an institution for processing\n",
    "INSTITUTION_ID = \"ins_109508\"\n",
    "\n",
    "# Create public token to be exchanged for institution access token\n",
    "create_tkn_response = client.Sandbox.public_token.create(INSTITUTION_ID, ['transactions','income','assets'])\n",
    "\n",
    "# Exchange public token for access token\n",
    "exchange_response = client.Item.public_token.exchange(create_tkn_response['public_token'])\n",
    "\n",
    "# Store access token as variable\n",
    "access_token = exchange_response['access_token']\n",
    "\n",
    "# Extract Transactions with date range, 90 days prior\n",
    "start_date = '{:%Y-%m-%d}'.format(datetime.datetime.now() + datetime.timedelta(-90))\n",
    "end_date = '{:%Y-%m-%d}'.format(datetime.datetime.now()) \n",
    "transactions_response = client.Transactions.get(access_token, start_date, end_date)\n",
    "\n",
    "# Iterate and parse JSON response\n",
    "for transactions in transactions_response['transactions']:\n",
    "    if transactions['name'] == 'INTRST PYMNT':\n",
    "        print(json.dumps(transactions['amount'], indent=4, sort_keys=True))"
   ]
  },
  {
   "cell_type": "code",
   "execution_count": null,
   "metadata": {},
   "outputs": [],
   "source": [
    "transactions_date=[]\n",
    "transactions_name=[]\n",
    "transactions_amount=[]\n",
    "transactions_category=[]\n",
    "for transactions in transactions_response['transactions']:\n",
    "    transactions_amount.append((transactions['amount']))\n",
    "print(transactions_amount)\n",
    "   \n",
    "for transactions in transactions_response['transactions']:\n",
    "    transactions_name.append((transactions['name']))\n",
    "print(transactions_name)\n",
    "\n",
    "for transactions in transactions_response['transactions']:\n",
    "    transactions_date.append((transactions['date']))\n",
    "print(transactions_date)\n",
    "\n",
    "for transactions in transactions_response['transactions']:\n",
    "    transactions_category.append((transactions['category']))\n",
    "print(transactions_category)\n",
    "df_amount = pd.DataFrame(transactions_amount)\n",
    "df_name = pd.DataFrame(transactions_name)\n",
    "df_category = pd.DataFrame(transactions_category)[0]\n",
    "df_date = pd.DataFrame(transactions_date)\n",
    "# Concatenate data\n",
    "Ernest_df = (\n",
    "    pd.concat((df_date,df_amount,df_name, df_category), axis=1).dropna()\n",
    ")\n",
    "plaid_df.head(5)"
   ]
  },
  {
   "cell_type": "code",
   "execution_count": null,
   "metadata": {},
   "outputs": [],
   "source": []
  }
 ],
 "metadata": {
  "kernelspec": {
   "display_name": "Python 3",
   "language": "python",
   "name": "python3"
  },
  "language_info": {
   "codemirror_mode": {
    "name": "ipython",
    "version": 3
   },
   "file_extension": ".py",
   "mimetype": "text/x-python",
   "name": "python",
   "nbconvert_exporter": "python",
   "pygments_lexer": "ipython3",
   "version": "3.7.7"
  }
 },
 "nbformat": 4,
 "nbformat_minor": 4
}
